{
 "cells": [
  {
   "cell_type": "markdown",
   "metadata": {},
   "source": [
    "# <center>COMP20230: Data Structures & Algorithms</center>"
   ]
  },
  {
   "cell_type": "markdown",
   "metadata": {},
   "source": [
    "## <center>Assignment 2</center>"
   ]
  },
  {
   "cell_type": "markdown",
   "metadata": {},
   "source": [
    "### Part I <br><br>(1)  Write a class called myLinkedList that implements the following singly linked list interface:\n",
    "\n",
    "- add first: adding an element at the front\n",
    "- add last: adding an element at the end\n",
    "- remove first: removing a node at the front\n",
    "- list traversal: every node in the list has been seen"
   ]
  },
  {
   "cell_type": "code",
   "execution_count": 479,
   "metadata": {},
   "outputs": [],
   "source": [
    "# class that creates node for linked list\n",
    "class Node:\n",
    "    # constructor\n",
    "    def __init__(self, element):\n",
    "        self.element = element\n",
    "        self.pointer = None\n",
    "        \n",
    "\n",
    "# class that creates linked list        \n",
    "class myLinkedList:\n",
    "    # constructor\n",
    "    def __init__(self):\n",
    "        self.head = None\n",
    "\n",
    "      \n",
    "    # method to add element to the front of the list\n",
    "    def add_first(self, element):\n",
    "        newNode = Node(element)\n",
    "        newNode.pointer = self.head\n",
    "        self.head = newNode\n",
    "        \n",
    "        \n",
    "    # method to add element to the end of the list\n",
    "    def add_last(self, element):\n",
    "        newNode = Node(element)\n",
    "        if self.head == None:\n",
    "            newNode.pointer = self.head\n",
    "            self.head = newNode\n",
    "        else:    \n",
    "            currentNode = self.head\n",
    "            while currentNode.pointer != None:\n",
    "                currentNode = currentNode.pointer\n",
    "            currentNode.pointer = newNode\n",
    "            \n",
    "    \n",
    "    # method to remove element at the front of the list\n",
    "    def remove_first(self):\n",
    "        if self.head == None:\n",
    "            print(\"List is empty. There is nothing to remove.\")\n",
    "        else:\n",
    "            self.head = self.head.pointer\n",
    "            \n",
    "    \n",
    "    # method to display every element in the list    \n",
    "    def list_traversal(self):\n",
    "        if self.head == None:\n",
    "            print(\"List is empty.\")\n",
    "        else:\n",
    "            nodeHead = self.head\n",
    "            while nodeHead != None:\n",
    "                print(nodeHead.element, end = \"  ->  \")\n",
    "                nodeHead = nodeHead.pointer  \n",
    "            print(\"None\")    \n",
    "                \n",
    "                \n",
    "    # method to check the size of the list\n",
    "    def list_size(self):\n",
    "        if self.head == None:\n",
    "            print(\"List is empty.\")\n",
    "        else:\n",
    "            count = 0\n",
    "            nodeHead = self.head\n",
    "            while nodeHead != None:\n",
    "                count += 1\n",
    "                nodeHead = nodeHead.pointer \n",
    "            print(\"List has\", count, \"element(s).\")    "
   ]
  },
  {
   "cell_type": "markdown",
   "metadata": {},
   "source": [
    "### Examples to test the operation of myLinkedList:"
   ]
  },
  {
   "cell_type": "markdown",
   "metadata": {},
   "source": [
    "#### Creating an empty myLinkedList"
   ]
  },
  {
   "cell_type": "code",
   "execution_count": 480,
   "metadata": {},
   "outputs": [],
   "source": [
    "new_list = myLinkedList()"
   ]
  },
  {
   "cell_type": "code",
   "execution_count": 481,
   "metadata": {},
   "outputs": [
    {
     "name": "stdout",
     "output_type": "stream",
     "text": [
      "List is empty.\n"
     ]
    }
   ],
   "source": [
    "new_list.list_traversal()"
   ]
  },
  {
   "cell_type": "markdown",
   "metadata": {},
   "source": [
    "List is created and empty, therefore the operation works correctly."
   ]
  },
  {
   "cell_type": "markdown",
   "metadata": {},
   "source": [
    "#### Adding element to the front of the list"
   ]
  },
  {
   "cell_type": "code",
   "execution_count": 482,
   "metadata": {},
   "outputs": [],
   "source": [
    "new_list.add_first(3)"
   ]
  },
  {
   "cell_type": "code",
   "execution_count": 483,
   "metadata": {},
   "outputs": [
    {
     "name": "stdout",
     "output_type": "stream",
     "text": [
      "3  ->  None\n"
     ]
    }
   ],
   "source": [
    "new_list.list_traversal()"
   ]
  },
  {
   "cell_type": "code",
   "execution_count": 484,
   "metadata": {},
   "outputs": [],
   "source": [
    "new_list.add_first(5)"
   ]
  },
  {
   "cell_type": "code",
   "execution_count": 485,
   "metadata": {},
   "outputs": [],
   "source": [
    "new_list.add_first(7)"
   ]
  },
  {
   "cell_type": "code",
   "execution_count": 486,
   "metadata": {},
   "outputs": [
    {
     "name": "stdout",
     "output_type": "stream",
     "text": [
      "7  ->  5  ->  3  ->  None\n"
     ]
    }
   ],
   "source": [
    "new_list.list_traversal()"
   ]
  },
  {
   "cell_type": "markdown",
   "metadata": {},
   "source": [
    "Element is added to the front of the list, therefore the operation works correctly."
   ]
  },
  {
   "cell_type": "markdown",
   "metadata": {},
   "source": [
    "#### Adding element to the end of the list "
   ]
  },
  {
   "cell_type": "code",
   "execution_count": 487,
   "metadata": {},
   "outputs": [
    {
     "name": "stdout",
     "output_type": "stream",
     "text": [
      "7  ->  5  ->  3  ->  None\n"
     ]
    }
   ],
   "source": [
    "new_list.list_traversal()"
   ]
  },
  {
   "cell_type": "code",
   "execution_count": 488,
   "metadata": {},
   "outputs": [],
   "source": [
    "new_list.add_last(8)"
   ]
  },
  {
   "cell_type": "code",
   "execution_count": 489,
   "metadata": {},
   "outputs": [
    {
     "name": "stdout",
     "output_type": "stream",
     "text": [
      "7  ->  5  ->  3  ->  8  ->  None\n"
     ]
    }
   ],
   "source": [
    "new_list.list_traversal()"
   ]
  },
  {
   "cell_type": "markdown",
   "metadata": {},
   "source": [
    "Element is added to the end of the list, therefore the operation works correctly."
   ]
  },
  {
   "cell_type": "markdown",
   "metadata": {},
   "source": [
    "#### Removing element from the front of the list "
   ]
  },
  {
   "cell_type": "code",
   "execution_count": 490,
   "metadata": {},
   "outputs": [
    {
     "name": "stdout",
     "output_type": "stream",
     "text": [
      "7  ->  5  ->  3  ->  8  ->  None\n"
     ]
    }
   ],
   "source": [
    "new_list.list_traversal()"
   ]
  },
  {
   "cell_type": "code",
   "execution_count": 491,
   "metadata": {},
   "outputs": [],
   "source": [
    "new_list.remove_first()"
   ]
  },
  {
   "cell_type": "code",
   "execution_count": 492,
   "metadata": {},
   "outputs": [
    {
     "name": "stdout",
     "output_type": "stream",
     "text": [
      "5  ->  3  ->  8  ->  None\n"
     ]
    }
   ],
   "source": [
    "new_list.list_traversal()"
   ]
  },
  {
   "cell_type": "markdown",
   "metadata": {},
   "source": [
    "Element is removed from the front of the list, therefore the operation works correctly."
   ]
  },
  {
   "cell_type": "markdown",
   "metadata": {},
   "source": [
    "#### Traversing the length of the list"
   ]
  },
  {
   "cell_type": "code",
   "execution_count": 493,
   "metadata": {},
   "outputs": [
    {
     "name": "stdout",
     "output_type": "stream",
     "text": [
      "5  ->  3  ->  8  ->  None\n"
     ]
    }
   ],
   "source": [
    "new_list.list_traversal()"
   ]
  },
  {
   "cell_type": "markdown",
   "metadata": {},
   "source": [
    "The contents of the list are displayed, therefore the operation works correctly."
   ]
  },
  {
   "cell_type": "markdown",
   "metadata": {},
   "source": [
    "#### Checking the size of the list"
   ]
  },
  {
   "cell_type": "code",
   "execution_count": 494,
   "metadata": {},
   "outputs": [
    {
     "name": "stdout",
     "output_type": "stream",
     "text": [
      "5  ->  3  ->  8  ->  None\n"
     ]
    }
   ],
   "source": [
    "new_list.list_traversal()"
   ]
  },
  {
   "cell_type": "code",
   "execution_count": 495,
   "metadata": {},
   "outputs": [
    {
     "name": "stdout",
     "output_type": "stream",
     "text": [
      "List has 3 element(s).\n"
     ]
    }
   ],
   "source": [
    "new_list.list_size()"
   ]
  },
  {
   "cell_type": "markdown",
   "metadata": {},
   "source": [
    "The right number of elements is displayed, therefore the operation works correctly."
   ]
  },
  {
   "cell_type": "markdown",
   "metadata": {},
   "source": [
    "### (2) Define in your own words the terms: stack ADT and queue ADT. List the key operations and support operations commonly associated with these ADTs. For each ADT, give two real world data examples and explain them briefly."
   ]
  },
  {
   "cell_type": "markdown",
   "metadata": {},
   "source": [
    "### Stack ADT: "
   ]
  },
  {
   "cell_type": "markdown",
   "metadata": {},
   "source": [
    "**Definition:** <br> A stack data structure is a collection of elements inserted and removed using the last in first out (LIFO) principle, the element placed last is accessed first. Stacks allow operations at one end only, the top element of the stack can only ever be accessed at any given time.  <br><br>\n",
    "**Key Operations:** <br>\n",
    "push(element): adds a new element to the top of the stack. <br>\n",
    "pop(): removes the element at the top of the stack. <br><br>\n",
    "**Support Operations:** <br>\n",
    "peek(): returns the element at the top of the stack without removing it. <br>\n",
    "size(): returns the number of elements in the stack. <br>\n",
    "isEmpty(): checks whether the stack is empty. <br>\n",
    "display(): displays all the elements in the stack. <br>\n",
    "\n",
    "**Real World Example 1:** <br>\n",
    "The undo feature in a text editor is an example of a stack ADT. The actions performed in a text editor are saved in a stack, so when the undo feature is activated the last activity is undone in a last in first out order.\n",
    "\n",
    "**Real World Example 2:** <br>\n",
    "The back feature in a web browser is also an example of a stack ADT. When you try to go back in a browser, it brings you to the page you visited last based on the last in first out principle."
   ]
  },
  {
   "cell_type": "markdown",
   "metadata": {},
   "source": [
    "### Queue ADT:"
   ]
  },
  {
   "cell_type": "markdown",
   "metadata": {},
   "source": [
    "**Definition:** <br>\n",
    "A queue is a data structure in which elements are inserted and deleted at two different ends using the first in first out (FIFO) priciple. Elements are inserted at the rear of the queue and they are deleted at the front of it. <br><br>\n",
    "**Key Operations:** <br>\n",
    "enqueue(element): adds a new element to the rear of the queue. <br>\n",
    "dequeue(): removes the element at the front of the queue. <br>\n",
    "\n",
    "**Support Operations:** <br>\n",
    "first(): returns the first element at the front of the queue without removing it. <br>\n",
    "size(): returns the number of elements in the queue. <br>\n",
    "isEmpty(): checks whether the queue is empty. <br>\n",
    "display(): displays all the elements in the queue. <br>\n",
    "\n",
    "**Real World Example 1:** <br>\n",
    "Job scheduling in operating systems is an example of a queue ADT. Jobs are scheduled in the order which they arrive, the job that arrives first will be executed first in a first in first out fashion. <br>\n",
    "\n",
    "**Real World Example 2:** <br>\n",
    "The printer queue is another example of a queue ADT. The documents which are sent to the printer first will be printed first, and the documents sent second will be printed second in a first in first out order."
   ]
  },
  {
   "cell_type": "markdown",
   "metadata": {},
   "source": [
    "### Part II <br><br>(1) Adopt the ADT concepts of Part I (task 2) to provide a complete implementation of a stack ADT"
   ]
  },
  {
   "cell_type": "code",
   "execution_count": 496,
   "metadata": {},
   "outputs": [],
   "source": [
    "# class that creates stack\n",
    "class myStack:\n",
    "    # constructor\n",
    "    def __init__(self):\n",
    "        self.stack = []\n",
    "     \n",
    "    \n",
    "    # method to add element to the top of the stack\n",
    "    def push(self, element):\n",
    "        self.element = element\n",
    "        self.stack.insert(0,self.element)\n",
    "      \n",
    "    \n",
    "    # method to remove element at the top of stack\n",
    "    def pop(self):\n",
    "        if len(self.stack) == 0:\n",
    "            print(\"Stack is empty. There is nothing to remove\")\n",
    "        else:    \n",
    "            del self.stack[0]\n",
    "       \n",
    "    \n",
    "    # method to return the element at the top of the stack\n",
    "    def peek(self):\n",
    "        if len(self.stack) == 0:\n",
    "            print(\"Stack is empty.\")\n",
    "        else:    \n",
    "            print(self.stack[0])\n",
    "        \n",
    "        \n",
    "    # method to return the size of the stack\n",
    "    def size(self):\n",
    "        print(\"The stack contains\", len(self.stack), \"element(s)\")\n",
    "    \n",
    "    \n",
    "    # method to check whether the stack is empty\n",
    "    def isEmpty(self):\n",
    "        if len(self.stack) == 0:\n",
    "            return True\n",
    "        else:\n",
    "            return False\n",
    "    \n",
    "    \n",
    "    # method to display all elements of the stack\n",
    "    def display(self):\n",
    "        if len(self.stack) == 0:\n",
    "            print(\"Stack is empty.\")\n",
    "        else:    \n",
    "            for element in self.stack:\n",
    "                print(element)"
   ]
  },
  {
   "cell_type": "markdown",
   "metadata": {},
   "source": [
    "### Examples to test the operation of myStack:"
   ]
  },
  {
   "cell_type": "markdown",
   "metadata": {},
   "source": [
    "#### Creating an empty stack "
   ]
  },
  {
   "cell_type": "code",
   "execution_count": 497,
   "metadata": {},
   "outputs": [],
   "source": [
    "new_stack = myStack()"
   ]
  },
  {
   "cell_type": "code",
   "execution_count": 498,
   "metadata": {},
   "outputs": [
    {
     "name": "stdout",
     "output_type": "stream",
     "text": [
      "Stack is empty.\n"
     ]
    }
   ],
   "source": [
    "new_stack.display()"
   ]
  },
  {
   "cell_type": "markdown",
   "metadata": {},
   "source": [
    "Stack is created and empty, therefore the operation works correctly."
   ]
  },
  {
   "cell_type": "markdown",
   "metadata": {},
   "source": [
    "#### Adding element to stack"
   ]
  },
  {
   "cell_type": "code",
   "execution_count": 499,
   "metadata": {},
   "outputs": [],
   "source": [
    "new_stack.push(1)"
   ]
  },
  {
   "cell_type": "code",
   "execution_count": 500,
   "metadata": {},
   "outputs": [
    {
     "name": "stdout",
     "output_type": "stream",
     "text": [
      "1\n"
     ]
    }
   ],
   "source": [
    "new_stack.display()"
   ]
  },
  {
   "cell_type": "code",
   "execution_count": 501,
   "metadata": {},
   "outputs": [],
   "source": [
    "new_stack.push(2)\n",
    "new_stack.push(3)\n",
    "new_stack.push(4)"
   ]
  },
  {
   "cell_type": "code",
   "execution_count": 502,
   "metadata": {},
   "outputs": [
    {
     "name": "stdout",
     "output_type": "stream",
     "text": [
      "4\n",
      "3\n",
      "2\n",
      "1\n"
     ]
    }
   ],
   "source": [
    "new_stack.display()"
   ]
  },
  {
   "cell_type": "markdown",
   "metadata": {},
   "source": [
    "Element is added to the top of the stack, therefore the operation works correctly."
   ]
  },
  {
   "cell_type": "markdown",
   "metadata": {},
   "source": [
    "#### Displaying elements in stack "
   ]
  },
  {
   "cell_type": "code",
   "execution_count": 503,
   "metadata": {},
   "outputs": [
    {
     "name": "stdout",
     "output_type": "stream",
     "text": [
      "4\n",
      "3\n",
      "2\n",
      "1\n"
     ]
    }
   ],
   "source": [
    "new_stack.display()"
   ]
  },
  {
   "cell_type": "markdown",
   "metadata": {},
   "source": [
    "Elements in stack are displayed, therefore the operation works correctly."
   ]
  },
  {
   "cell_type": "markdown",
   "metadata": {},
   "source": [
    "#### Removing element from stack"
   ]
  },
  {
   "cell_type": "code",
   "execution_count": 504,
   "metadata": {},
   "outputs": [
    {
     "name": "stdout",
     "output_type": "stream",
     "text": [
      "4\n",
      "3\n",
      "2\n",
      "1\n"
     ]
    }
   ],
   "source": [
    "new_stack.display()"
   ]
  },
  {
   "cell_type": "code",
   "execution_count": 505,
   "metadata": {},
   "outputs": [],
   "source": [
    "new_stack.pop()"
   ]
  },
  {
   "cell_type": "code",
   "execution_count": 506,
   "metadata": {},
   "outputs": [
    {
     "name": "stdout",
     "output_type": "stream",
     "text": [
      "3\n",
      "2\n",
      "1\n"
     ]
    }
   ],
   "source": [
    "new_stack.display()"
   ]
  },
  {
   "cell_type": "markdown",
   "metadata": {},
   "source": [
    "The element added to the top of the stack last has been removed, therefore the operation works correctly."
   ]
  },
  {
   "cell_type": "markdown",
   "metadata": {},
   "source": [
    "#### Returning the element at the top of the stack"
   ]
  },
  {
   "cell_type": "code",
   "execution_count": 507,
   "metadata": {},
   "outputs": [
    {
     "name": "stdout",
     "output_type": "stream",
     "text": [
      "3\n",
      "2\n",
      "1\n"
     ]
    }
   ],
   "source": [
    "new_stack.display()"
   ]
  },
  {
   "cell_type": "code",
   "execution_count": 508,
   "metadata": {},
   "outputs": [
    {
     "name": "stdout",
     "output_type": "stream",
     "text": [
      "3\n"
     ]
    }
   ],
   "source": [
    "new_stack.peek()"
   ]
  },
  {
   "cell_type": "markdown",
   "metadata": {},
   "source": [
    "The element at the top of the stack was returned, therefore the operation works correcty."
   ]
  },
  {
   "cell_type": "markdown",
   "metadata": {},
   "source": [
    "#### Checking the size of the stack"
   ]
  },
  {
   "cell_type": "code",
   "execution_count": 509,
   "metadata": {},
   "outputs": [
    {
     "name": "stdout",
     "output_type": "stream",
     "text": [
      "3\n",
      "2\n",
      "1\n"
     ]
    }
   ],
   "source": [
    "new_stack.display()"
   ]
  },
  {
   "cell_type": "code",
   "execution_count": 510,
   "metadata": {},
   "outputs": [
    {
     "name": "stdout",
     "output_type": "stream",
     "text": [
      "The stack contains 3 element(s)\n"
     ]
    }
   ],
   "source": [
    "new_stack.size()"
   ]
  },
  {
   "cell_type": "markdown",
   "metadata": {},
   "source": [
    "The right number of elements is displayed, therefore the operation works correctly."
   ]
  },
  {
   "cell_type": "markdown",
   "metadata": {},
   "source": [
    "#### Checking whether the stack is empty "
   ]
  },
  {
   "cell_type": "code",
   "execution_count": 511,
   "metadata": {},
   "outputs": [
    {
     "name": "stdout",
     "output_type": "stream",
     "text": [
      "3\n",
      "2\n",
      "1\n"
     ]
    }
   ],
   "source": [
    "new_stack.display()"
   ]
  },
  {
   "cell_type": "code",
   "execution_count": 512,
   "metadata": {},
   "outputs": [
    {
     "data": {
      "text/plain": [
       "False"
      ]
     },
     "execution_count": 512,
     "metadata": {},
     "output_type": "execute_result"
    }
   ],
   "source": [
    "new_stack.isEmpty()"
   ]
  },
  {
   "cell_type": "code",
   "execution_count": 513,
   "metadata": {},
   "outputs": [],
   "source": [
    "new_stack.pop()\n",
    "new_stack.pop()\n",
    "new_stack.pop()"
   ]
  },
  {
   "cell_type": "code",
   "execution_count": 514,
   "metadata": {},
   "outputs": [
    {
     "data": {
      "text/plain": [
       "True"
      ]
     },
     "execution_count": 514,
     "metadata": {},
     "output_type": "execute_result"
    }
   ],
   "source": [
    "new_stack.isEmpty()"
   ]
  },
  {
   "cell_type": "markdown",
   "metadata": {},
   "source": [
    "The correct boolean value is displayed, therefore the operation works correctly."
   ]
  },
  {
   "cell_type": "markdown",
   "metadata": {},
   "source": [
    "### (2) What values are returned during the following series of stack operations, if executed upon an initially empty stack S? push(5), push(3), pop(), push(2), push(8), pop(), pop(), push(9), push(1), pop(), push(7), push(6), pop(), pop(), push(4), pop(), and pop() "
   ]
  },
  {
   "cell_type": "code",
   "execution_count": 515,
   "metadata": {},
   "outputs": [
    {
     "name": "stdout",
     "output_type": "stream",
     "text": [
      "Stack is empty.\n"
     ]
    }
   ],
   "source": [
    "S = myStack()\n",
    "S.display()"
   ]
  },
  {
   "cell_type": "code",
   "execution_count": 516,
   "metadata": {},
   "outputs": [
    {
     "name": "stdout",
     "output_type": "stream",
     "text": [
      "5\n"
     ]
    }
   ],
   "source": [
    "S.push(5)\n",
    "S.display()"
   ]
  },
  {
   "cell_type": "code",
   "execution_count": 517,
   "metadata": {},
   "outputs": [
    {
     "name": "stdout",
     "output_type": "stream",
     "text": [
      "3\n",
      "5\n"
     ]
    }
   ],
   "source": [
    "S.push(3)\n",
    "S.display()"
   ]
  },
  {
   "cell_type": "code",
   "execution_count": 518,
   "metadata": {},
   "outputs": [
    {
     "name": "stdout",
     "output_type": "stream",
     "text": [
      "5\n"
     ]
    }
   ],
   "source": [
    "S.pop()\n",
    "S.display()"
   ]
  },
  {
   "cell_type": "code",
   "execution_count": 519,
   "metadata": {},
   "outputs": [
    {
     "name": "stdout",
     "output_type": "stream",
     "text": [
      "2\n",
      "5\n"
     ]
    }
   ],
   "source": [
    "S.push(2)\n",
    "S.display()"
   ]
  },
  {
   "cell_type": "code",
   "execution_count": 520,
   "metadata": {},
   "outputs": [
    {
     "name": "stdout",
     "output_type": "stream",
     "text": [
      "8\n",
      "2\n",
      "5\n"
     ]
    }
   ],
   "source": [
    "S.push(8)\n",
    "S.display()"
   ]
  },
  {
   "cell_type": "code",
   "execution_count": 521,
   "metadata": {},
   "outputs": [
    {
     "name": "stdout",
     "output_type": "stream",
     "text": [
      "2\n",
      "5\n"
     ]
    }
   ],
   "source": [
    "S.pop()\n",
    "S.display()"
   ]
  },
  {
   "cell_type": "code",
   "execution_count": 522,
   "metadata": {},
   "outputs": [
    {
     "name": "stdout",
     "output_type": "stream",
     "text": [
      "5\n"
     ]
    }
   ],
   "source": [
    "S.pop()\n",
    "S.display()"
   ]
  },
  {
   "cell_type": "code",
   "execution_count": 523,
   "metadata": {},
   "outputs": [
    {
     "name": "stdout",
     "output_type": "stream",
     "text": [
      "9\n",
      "5\n"
     ]
    }
   ],
   "source": [
    "S.push(9)\n",
    "S.display()"
   ]
  },
  {
   "cell_type": "code",
   "execution_count": 524,
   "metadata": {},
   "outputs": [
    {
     "name": "stdout",
     "output_type": "stream",
     "text": [
      "1\n",
      "9\n",
      "5\n"
     ]
    }
   ],
   "source": [
    "S.push(1)\n",
    "S.display()"
   ]
  },
  {
   "cell_type": "code",
   "execution_count": 525,
   "metadata": {},
   "outputs": [
    {
     "name": "stdout",
     "output_type": "stream",
     "text": [
      "9\n",
      "5\n"
     ]
    }
   ],
   "source": [
    "S.pop()\n",
    "S.display()"
   ]
  },
  {
   "cell_type": "code",
   "execution_count": 526,
   "metadata": {},
   "outputs": [
    {
     "name": "stdout",
     "output_type": "stream",
     "text": [
      "7\n",
      "9\n",
      "5\n"
     ]
    }
   ],
   "source": [
    "S.push(7)\n",
    "S.display()"
   ]
  },
  {
   "cell_type": "code",
   "execution_count": 527,
   "metadata": {},
   "outputs": [
    {
     "name": "stdout",
     "output_type": "stream",
     "text": [
      "6\n",
      "7\n",
      "9\n",
      "5\n"
     ]
    }
   ],
   "source": [
    "S.push(6)\n",
    "S.display()"
   ]
  },
  {
   "cell_type": "code",
   "execution_count": 528,
   "metadata": {},
   "outputs": [
    {
     "name": "stdout",
     "output_type": "stream",
     "text": [
      "7\n",
      "9\n",
      "5\n"
     ]
    }
   ],
   "source": [
    "S.pop()\n",
    "S.display()"
   ]
  },
  {
   "cell_type": "code",
   "execution_count": 529,
   "metadata": {},
   "outputs": [
    {
     "name": "stdout",
     "output_type": "stream",
     "text": [
      "9\n",
      "5\n"
     ]
    }
   ],
   "source": [
    "S.pop()\n",
    "S.display()"
   ]
  },
  {
   "cell_type": "code",
   "execution_count": 530,
   "metadata": {},
   "outputs": [
    {
     "name": "stdout",
     "output_type": "stream",
     "text": [
      "4\n",
      "9\n",
      "5\n"
     ]
    }
   ],
   "source": [
    "S.push(4)\n",
    "S.display()"
   ]
  },
  {
   "cell_type": "code",
   "execution_count": 531,
   "metadata": {},
   "outputs": [
    {
     "name": "stdout",
     "output_type": "stream",
     "text": [
      "9\n",
      "5\n"
     ]
    }
   ],
   "source": [
    "S.pop()\n",
    "S.display()"
   ]
  },
  {
   "cell_type": "code",
   "execution_count": 532,
   "metadata": {},
   "outputs": [
    {
     "name": "stdout",
     "output_type": "stream",
     "text": [
      "5\n"
     ]
    }
   ],
   "source": [
    "S.pop()\n",
    "S.display()"
   ]
  },
  {
   "cell_type": "markdown",
   "metadata": {},
   "source": [
    "The value returned after the operations are performed is 5."
   ]
  },
  {
   "cell_type": "markdown",
   "metadata": {},
   "source": [
    "### (3) Suppose an initially empty stack S has executed a total of 35 push operations, 15 top operations, and 10 pop operations, 3 of which raised Empty errors that were caught and ignored. What is the current size of S? "
   ]
  },
  {
   "cell_type": "markdown",
   "metadata": {},
   "source": [
    "In this case I'm going to assume the 'top' operation acts like the 'peek' operation I implemented - it returns the value of the top element of the stack, but doesn't remove it. <br>\n",
    "\n",
    "35 push ops - (10 pop ops - 3 ops with empty errors) <br>\n",
    "35 - 7 = 28"
   ]
  },
  {
   "cell_type": "markdown",
   "metadata": {},
   "source": [
    "The current size of S is 28 elements."
   ]
  },
  {
   "cell_type": "markdown",
   "metadata": {},
   "source": [
    "### Part III"
   ]
  },
  {
   "cell_type": "markdown",
   "metadata": {},
   "source": [
    "### (1) Adopt the ADT concepts of Part I (task 2) to provide a complete implementation of a queue ADT"
   ]
  },
  {
   "cell_type": "code",
   "execution_count": 533,
   "metadata": {},
   "outputs": [],
   "source": [
    "# class that creates queue\n",
    "class myQueue:\n",
    "    # constructor\n",
    "    def __init__(self):\n",
    "        self.queue = []\n",
    "     \n",
    "    \n",
    "    # method to add element to the rear of the queue\n",
    "    def enqueue(self, element):\n",
    "        self.element = element\n",
    "        self.queue.append(self.element)\n",
    "      \n",
    "    \n",
    "    # method to remove element at the front of the queue\n",
    "    def dequeue(self):\n",
    "        if len(self.queue) == 0:\n",
    "            print(\"Queue is empty. There is nothing to remove\")\n",
    "        else:    \n",
    "            del self.queue[0]\n",
    "       \n",
    "    \n",
    "    # method to return the element at the front of the queue\n",
    "    def first(self):\n",
    "        if len(self.queue) == 0:\n",
    "            print(\"Queue is empty.\")\n",
    "        else:    \n",
    "            print(self.queue[0])\n",
    "        \n",
    "        \n",
    "    # method to return the size of the queue\n",
    "    def size(self):\n",
    "        print(\"The queue contains\", len(self.queue), \"element(s)\")\n",
    "    \n",
    "    \n",
    "    # method to check whether the queue is empty\n",
    "    def isEmpty(self):\n",
    "        if len(self.queue) == 0:\n",
    "            return True\n",
    "        else:\n",
    "            return False\n",
    "    \n",
    "    \n",
    "    # method to display all elements of the queue\n",
    "    def display(self):\n",
    "        if len(self.queue) == 0:\n",
    "            print(\"Queue is empty.\")\n",
    "        else:    \n",
    "            for element in self.queue:\n",
    "                print(element, end = \" \")"
   ]
  },
  {
   "cell_type": "markdown",
   "metadata": {},
   "source": [
    "### Examples to test the operation of myQueue:"
   ]
  },
  {
   "cell_type": "markdown",
   "metadata": {},
   "source": [
    "#### Creating an empty queue "
   ]
  },
  {
   "cell_type": "code",
   "execution_count": 534,
   "metadata": {},
   "outputs": [],
   "source": [
    "new_queue = myQueue()"
   ]
  },
  {
   "cell_type": "code",
   "execution_count": 535,
   "metadata": {},
   "outputs": [
    {
     "name": "stdout",
     "output_type": "stream",
     "text": [
      "Queue is empty.\n"
     ]
    }
   ],
   "source": [
    "new_queue.display()"
   ]
  },
  {
   "cell_type": "markdown",
   "metadata": {},
   "source": [
    "Queue is created and empty, therefore the operation works correctly."
   ]
  },
  {
   "cell_type": "markdown",
   "metadata": {},
   "source": [
    "#### Adding element to queue"
   ]
  },
  {
   "cell_type": "code",
   "execution_count": 536,
   "metadata": {},
   "outputs": [],
   "source": [
    "new_queue.enqueue(1)"
   ]
  },
  {
   "cell_type": "code",
   "execution_count": 537,
   "metadata": {},
   "outputs": [
    {
     "name": "stdout",
     "output_type": "stream",
     "text": [
      "1 "
     ]
    }
   ],
   "source": [
    "new_queue.display()"
   ]
  },
  {
   "cell_type": "code",
   "execution_count": 538,
   "metadata": {},
   "outputs": [],
   "source": [
    "new_queue.enqueue(2)\n",
    "new_queue.enqueue(3)\n",
    "new_queue.enqueue(4)"
   ]
  },
  {
   "cell_type": "code",
   "execution_count": 539,
   "metadata": {},
   "outputs": [
    {
     "name": "stdout",
     "output_type": "stream",
     "text": [
      "1 2 3 4 "
     ]
    }
   ],
   "source": [
    "new_queue.display()"
   ]
  },
  {
   "cell_type": "markdown",
   "metadata": {},
   "source": [
    "Element is added to the rear of the queue, therefore the operation works correctly."
   ]
  },
  {
   "cell_type": "markdown",
   "metadata": {},
   "source": [
    "#### Displaying elements in queue "
   ]
  },
  {
   "cell_type": "code",
   "execution_count": 540,
   "metadata": {},
   "outputs": [
    {
     "name": "stdout",
     "output_type": "stream",
     "text": [
      "1 2 3 4 "
     ]
    }
   ],
   "source": [
    "new_queue.display()"
   ]
  },
  {
   "cell_type": "markdown",
   "metadata": {},
   "source": [
    "Elements in queue are displayed, therefore the operation works correctly. "
   ]
  },
  {
   "cell_type": "markdown",
   "metadata": {},
   "source": [
    "#### Removing element from queue "
   ]
  },
  {
   "cell_type": "code",
   "execution_count": 541,
   "metadata": {},
   "outputs": [
    {
     "name": "stdout",
     "output_type": "stream",
     "text": [
      "1 2 3 4 "
     ]
    }
   ],
   "source": [
    "new_queue.display()"
   ]
  },
  {
   "cell_type": "code",
   "execution_count": 542,
   "metadata": {},
   "outputs": [],
   "source": [
    "new_queue.dequeue()"
   ]
  },
  {
   "cell_type": "code",
   "execution_count": 543,
   "metadata": {},
   "outputs": [
    {
     "name": "stdout",
     "output_type": "stream",
     "text": [
      "2 3 4 "
     ]
    }
   ],
   "source": [
    "new_queue.display()"
   ]
  },
  {
   "cell_type": "markdown",
   "metadata": {},
   "source": [
    "The element at the front of the queue has been removed, therefore the operation works correctly."
   ]
  },
  {
   "cell_type": "markdown",
   "metadata": {},
   "source": [
    "#### Returning the first element of the queue"
   ]
  },
  {
   "cell_type": "code",
   "execution_count": 544,
   "metadata": {},
   "outputs": [
    {
     "name": "stdout",
     "output_type": "stream",
     "text": [
      "2 3 4 "
     ]
    }
   ],
   "source": [
    "new_queue.display()"
   ]
  },
  {
   "cell_type": "code",
   "execution_count": 545,
   "metadata": {},
   "outputs": [
    {
     "name": "stdout",
     "output_type": "stream",
     "text": [
      "2\n"
     ]
    }
   ],
   "source": [
    "new_queue.first()"
   ]
  },
  {
   "cell_type": "markdown",
   "metadata": {},
   "source": [
    "The first element was returned, therefore the operation works correctly."
   ]
  },
  {
   "cell_type": "markdown",
   "metadata": {},
   "source": [
    "#### Checking the size of the queue "
   ]
  },
  {
   "cell_type": "code",
   "execution_count": 546,
   "metadata": {},
   "outputs": [
    {
     "name": "stdout",
     "output_type": "stream",
     "text": [
      "2 3 4 "
     ]
    }
   ],
   "source": [
    "new_queue.display()"
   ]
  },
  {
   "cell_type": "code",
   "execution_count": 547,
   "metadata": {},
   "outputs": [
    {
     "name": "stdout",
     "output_type": "stream",
     "text": [
      "The queue contains 3 element(s)\n"
     ]
    }
   ],
   "source": [
    "new_queue.size()"
   ]
  },
  {
   "cell_type": "markdown",
   "metadata": {},
   "source": [
    "The right amount of elements is displayed, therefore the operation works correctly."
   ]
  },
  {
   "cell_type": "markdown",
   "metadata": {},
   "source": [
    "#### Checking whether the queue is empty"
   ]
  },
  {
   "cell_type": "code",
   "execution_count": 548,
   "metadata": {},
   "outputs": [
    {
     "name": "stdout",
     "output_type": "stream",
     "text": [
      "2 3 4 "
     ]
    }
   ],
   "source": [
    "new_queue.display()"
   ]
  },
  {
   "cell_type": "code",
   "execution_count": 549,
   "metadata": {},
   "outputs": [
    {
     "data": {
      "text/plain": [
       "False"
      ]
     },
     "execution_count": 549,
     "metadata": {},
     "output_type": "execute_result"
    }
   ],
   "source": [
    "new_queue.isEmpty()"
   ]
  },
  {
   "cell_type": "code",
   "execution_count": 550,
   "metadata": {},
   "outputs": [],
   "source": [
    "new_queue.dequeue()\n",
    "new_queue.dequeue()\n",
    "new_queue.dequeue()"
   ]
  },
  {
   "cell_type": "code",
   "execution_count": 551,
   "metadata": {},
   "outputs": [
    {
     "data": {
      "text/plain": [
       "True"
      ]
     },
     "execution_count": 551,
     "metadata": {},
     "output_type": "execute_result"
    }
   ],
   "source": [
    "new_queue.isEmpty()"
   ]
  },
  {
   "cell_type": "markdown",
   "metadata": {},
   "source": [
    "The correct boolean value is displayed, therefore the operation works correctly."
   ]
  },
  {
   "cell_type": "markdown",
   "metadata": {},
   "source": [
    "### (2) What values are returned during the following sequence of queue operations, if executed on an initially empty queue Q? enqueue(5), enqueue(3), dequeue(), enqueue(2), enqueue(8), dequeue(), dequeue(), enqueue(9), enqueue(1), dequeue(), enqueue(7), enqueue(6), dequeue(), dequeue(), enqueue(4), dequeue(), dequeue()"
   ]
  },
  {
   "cell_type": "code",
   "execution_count": 552,
   "metadata": {},
   "outputs": [
    {
     "name": "stdout",
     "output_type": "stream",
     "text": [
      "Queue is empty.\n"
     ]
    }
   ],
   "source": [
    "Q = myQueue()\n",
    "Q.display()"
   ]
  },
  {
   "cell_type": "code",
   "execution_count": 553,
   "metadata": {},
   "outputs": [
    {
     "name": "stdout",
     "output_type": "stream",
     "text": [
      "5 "
     ]
    }
   ],
   "source": [
    "Q.enqueue(5)\n",
    "Q.display()"
   ]
  },
  {
   "cell_type": "code",
   "execution_count": 554,
   "metadata": {},
   "outputs": [
    {
     "name": "stdout",
     "output_type": "stream",
     "text": [
      "5 3 "
     ]
    }
   ],
   "source": [
    "Q.enqueue(3)\n",
    "Q.display()"
   ]
  },
  {
   "cell_type": "code",
   "execution_count": 555,
   "metadata": {},
   "outputs": [
    {
     "name": "stdout",
     "output_type": "stream",
     "text": [
      "3 "
     ]
    }
   ],
   "source": [
    "Q.dequeue()\n",
    "Q.display()"
   ]
  },
  {
   "cell_type": "code",
   "execution_count": 556,
   "metadata": {},
   "outputs": [
    {
     "name": "stdout",
     "output_type": "stream",
     "text": [
      "3 2 "
     ]
    }
   ],
   "source": [
    "Q.enqueue(2)\n",
    "Q.display()"
   ]
  },
  {
   "cell_type": "code",
   "execution_count": 557,
   "metadata": {},
   "outputs": [
    {
     "name": "stdout",
     "output_type": "stream",
     "text": [
      "3 2 8 "
     ]
    }
   ],
   "source": [
    "Q.enqueue(8)\n",
    "Q.display()"
   ]
  },
  {
   "cell_type": "code",
   "execution_count": 558,
   "metadata": {},
   "outputs": [
    {
     "name": "stdout",
     "output_type": "stream",
     "text": [
      "2 8 "
     ]
    }
   ],
   "source": [
    "Q.dequeue()\n",
    "Q.display()"
   ]
  },
  {
   "cell_type": "code",
   "execution_count": 559,
   "metadata": {},
   "outputs": [
    {
     "name": "stdout",
     "output_type": "stream",
     "text": [
      "8 "
     ]
    }
   ],
   "source": [
    "Q.dequeue()\n",
    "Q.display()"
   ]
  },
  {
   "cell_type": "code",
   "execution_count": 560,
   "metadata": {},
   "outputs": [
    {
     "name": "stdout",
     "output_type": "stream",
     "text": [
      "8 9 "
     ]
    }
   ],
   "source": [
    "Q.enqueue(9)\n",
    "Q.display()"
   ]
  },
  {
   "cell_type": "code",
   "execution_count": 561,
   "metadata": {},
   "outputs": [
    {
     "name": "stdout",
     "output_type": "stream",
     "text": [
      "8 9 1 "
     ]
    }
   ],
   "source": [
    "Q.enqueue(1)\n",
    "Q.display()"
   ]
  },
  {
   "cell_type": "code",
   "execution_count": 562,
   "metadata": {},
   "outputs": [
    {
     "name": "stdout",
     "output_type": "stream",
     "text": [
      "9 1 "
     ]
    }
   ],
   "source": [
    "Q.dequeue()\n",
    "Q.display()"
   ]
  },
  {
   "cell_type": "code",
   "execution_count": 563,
   "metadata": {},
   "outputs": [
    {
     "name": "stdout",
     "output_type": "stream",
     "text": [
      "9 1 7 "
     ]
    }
   ],
   "source": [
    "Q.enqueue(7)\n",
    "Q.display()"
   ]
  },
  {
   "cell_type": "code",
   "execution_count": 564,
   "metadata": {},
   "outputs": [
    {
     "name": "stdout",
     "output_type": "stream",
     "text": [
      "9 1 7 6 "
     ]
    }
   ],
   "source": [
    "Q.enqueue(6)\n",
    "Q.display()"
   ]
  },
  {
   "cell_type": "code",
   "execution_count": 565,
   "metadata": {},
   "outputs": [
    {
     "name": "stdout",
     "output_type": "stream",
     "text": [
      "1 7 6 "
     ]
    }
   ],
   "source": [
    "Q.dequeue()\n",
    "Q.display()"
   ]
  },
  {
   "cell_type": "code",
   "execution_count": 566,
   "metadata": {},
   "outputs": [
    {
     "name": "stdout",
     "output_type": "stream",
     "text": [
      "7 6 "
     ]
    }
   ],
   "source": [
    "Q.dequeue()\n",
    "Q.display()"
   ]
  },
  {
   "cell_type": "code",
   "execution_count": 567,
   "metadata": {},
   "outputs": [
    {
     "name": "stdout",
     "output_type": "stream",
     "text": [
      "7 6 4 "
     ]
    }
   ],
   "source": [
    "Q.enqueue(4)\n",
    "Q.display()"
   ]
  },
  {
   "cell_type": "code",
   "execution_count": 568,
   "metadata": {},
   "outputs": [
    {
     "name": "stdout",
     "output_type": "stream",
     "text": [
      "6 4 "
     ]
    }
   ],
   "source": [
    "Q.dequeue()\n",
    "Q.display()"
   ]
  },
  {
   "cell_type": "code",
   "execution_count": 569,
   "metadata": {},
   "outputs": [
    {
     "name": "stdout",
     "output_type": "stream",
     "text": [
      "4 "
     ]
    }
   ],
   "source": [
    "Q.dequeue()\n",
    "Q.display()"
   ]
  },
  {
   "cell_type": "markdown",
   "metadata": {},
   "source": [
    "The value returned after the operations are performed is 4."
   ]
  },
  {
   "cell_type": "markdown",
   "metadata": {},
   "source": [
    "### (3) Suppose an initially empty queue Q has executed a total of 50 enqueue operations, 15 top operations, and 15 dequeue operations, 5 of which raised Empty errors that were caught and ignored. What is the current size of Q?"
   ]
  },
  {
   "cell_type": "markdown",
   "metadata": {},
   "source": [
    "In this case I'm going to assume the 'top' operation acts like the 'first' operation I implemented - it returns the first value of the queue, but doesn't remove it. <br>\n",
    "\n",
    "50 enqueue ops - (15 dequeue ops - 5 ops with empty errors) <br>\n",
    "50 - 10 = 40"
   ]
  },
  {
   "cell_type": "markdown",
   "metadata": {},
   "source": [
    "The current size of Q is 40 elements."
   ]
  }
 ],
 "metadata": {
  "kernelspec": {
   "display_name": "Python 3",
   "language": "python",
   "name": "python3"
  },
  "language_info": {
   "codemirror_mode": {
    "name": "ipython",
    "version": 3
   },
   "file_extension": ".py",
   "mimetype": "text/x-python",
   "name": "python",
   "nbconvert_exporter": "python",
   "pygments_lexer": "ipython3",
   "version": "3.7.4"
  }
 },
 "nbformat": 4,
 "nbformat_minor": 2
}
